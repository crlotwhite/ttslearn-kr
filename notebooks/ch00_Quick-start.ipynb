{
 "cells": [
  {
   "cell_type": "markdown",
   "id": "attached-european",
   "metadata": {},
   "source": [
    "# Quick start"
   ]
  },
  {
   "cell_type": "markdown",
   "id": "devoted-parade",
   "metadata": {},
   "source": [
    "[![Open In Colab](https://colab.research.google.com/assets/colab-badge.svg)](https://colab.research.google.com/github/r9y9/ttslearn/blob/master/notebooks/ch00_Quick-start.ipynb)\n",
    "\n",
    "「Python으로 배우는 음성합성」의 quick start 페이지에 오신 것을 환영합니다!\n",
    "\n",
    "이 페이지(노트북 형식)에서는, 책 속에서 해설하고 있는 3개의 음성 합성에 대해서, 음성 합성의 샘플 코드·음성 샘플을 나타냅니다. 해설을 읽기 전에 손을 움직여보고 싶다고 하는 분들에게는 첫걸음에 최적의 노트북입니다.\n",
    "\n",
    "여기서 보여주는 음성합성은 GitHub 저장소에서 학습된 모델이 배포되고 있습니다. 음성 샘플을 듣는 것뿐만 아니라 꼭 스스로 음성 합성을 시도해 보십시오.\n",
    "그리고 음성 합성에 대한 자세한 내용을 이해하기 위해서는 소스 코드와 서적을 함께 참조하십시오."
   ]
  },
  {
   "cell_type": "markdown",
   "id": "spare-bandwidth",
   "metadata": {},
   "source": [
    "## 준비"
   ]
  },
  {
   "cell_type": "markdown",
   "id": "primary-penguin",
   "metadata": {},
   "source": [
    "### ttslearn 설치하기"
   ]
  },
  {
   "cell_type": "code",
   "execution_count": null,
   "id": "alive-decline",
   "metadata": {},
   "outputs": [],
   "source": [
    "%%capture\n",
    "try:\n",
    "    import ttslearn\n",
    "except ImportError:\n",
    "    !pip install ttslearn"
   ]
  },
  {
   "cell_type": "code",
   "execution_count": null,
   "id": "referenced-bowling",
   "metadata": {},
   "outputs": [],
   "source": [
    "import ttslearn\n",
    "ttslearn.__version__"
   ]
  },
  {
   "cell_type": "markdown",
   "id": "olive-reservoir",
   "metadata": {},
   "source": [
    "### 패키지 임포트"
   ]
  },
  {
   "cell_type": "code",
   "execution_count": null,
   "id": "challenging-passion",
   "metadata": {},
   "outputs": [],
   "source": [
    "%pylab inline\n",
    "import IPython\n",
    "from IPython.display import Audio\n",
    "import librosa\n",
    "import librosa.display\n",
    "from tqdm.notebook import tqdm\n",
    "import torch"
   ]
  },
  {
   "cell_type": "markdown",
   "id": "killing-bubble",
   "metadata": {},
   "source": [
    "## DNN음성합성 (5장·6장)"
   ]
  },
  {
   "cell_type": "code",
   "execution_count": null,
   "id": "olympic-shopper",
   "metadata": {},
   "outputs": [],
   "source": [
    "from ttslearn.dnntts import DNNTTS\n",
    "dnntts_engine = DNNTTS()"
   ]
  },
  {
   "cell_type": "code",
   "execution_count": null,
   "id": "noticed-initial",
   "metadata": {},
   "outputs": [],
   "source": [
    "%time wav, sr = dnntts_engine.tts(\"あらゆる現実を、すべて自分のほうへねじ曲げたのだ。\")\n",
    "IPython.display.display(Audio(wav, rate=sr))"
   ]
  },
  {
   "cell_type": "markdown",
   "id": "vertical-thinking",
   "metadata": {},
   "source": [
    "## WaveNet음성합성 (7장·8장)"
   ]
  },
  {
   "cell_type": "code",
   "execution_count": null,
   "id": "presidential-gibraltar",
   "metadata": {},
   "outputs": [],
   "source": [
    "from ttslearn.wavenet import WaveNetTTS\n",
    "wavenet_engine = WaveNetTTS()"
   ]
  },
  {
   "cell_type": "code",
   "execution_count": null,
   "id": "offshore-preserve",
   "metadata": {},
   "outputs": [],
   "source": [
    "%time wav, sr = wavenet_engine.tts(\"小さな鰻屋に、熱気のようなものがみなぎる\", tqdm=tqdm)\n",
    "IPython.display.display(Audio(wav, rate=sr))"
   ]
  },
  {
   "cell_type": "markdown",
   "id": "inclusive-integral",
   "metadata": {},
   "source": [
    "## Tacotron 2 (9장·10장)"
   ]
  },
  {
   "cell_type": "code",
   "execution_count": null,
   "id": "revolutionary-spray",
   "metadata": {},
   "outputs": [],
   "source": [
    "from ttslearn.tacotron import Tacotron2TTS\n",
    "tacotron_engine = Tacotron2TTS()"
   ]
  },
  {
   "cell_type": "code",
   "execution_count": null,
   "id": "weird-politics",
   "metadata": {},
   "outputs": [],
   "source": [
    "%time wav, sr = tacotron_engine.tts(\"昼にはペスカトーレを、夜には寿司をパクパク食べた。\", tqdm=tqdm)\n",
    "IPython.display.display(Audio(wav, rate=sr))"
   ]
  },
  {
   "cell_type": "markdown",
   "id": "veterinary-family",
   "metadata": {},
   "source": [
    "## 마지막"
   ]
  },
  {
   "cell_type": "code",
   "execution_count": null,
   "id": "institutional-stretch",
   "metadata": {},
   "outputs": [],
   "source": [
    "text = \"これから音声合成を始める皆様にとって、少しでも学習の助けになれば幸いです。\"\n",
    "print(text)\n",
    "\n",
    "for idx, (name, engine) in enumerate([\n",
    "    (\"DNNTTS\", dnntts_engine), \n",
    "    (\"WaveNet TTS\", wavenet_engine),\n",
    "    (\"Tacotron 2\", tacotron_engine),\n",
    "]):\n",
    "    %time wav, sr = engine.tts(text, tqdm=tqdm)\n",
    "    IPython.display.display(Audio(wav, rate=sr))"
   ]
  }
 ],
 "metadata": {
  "kernelspec": {
   "display_name": "Python 3",
   "language": "python",
   "name": "python3"
  },
  "language_info": {
   "codemirror_mode": {
    "name": "ipython",
    "version": 3
   },
   "file_extension": ".py",
   "mimetype": "text/x-python",
   "name": "python",
   "nbconvert_exporter": "python",
   "pygments_lexer": "ipython3",
   "version": "3.8.6"
  }
 },
 "nbformat": 4,
 "nbformat_minor": 5
}