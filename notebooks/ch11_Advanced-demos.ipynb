{
 "cells": [
  {
   "cell_type": "markdown",
   "id": "cordless-civilization",
   "metadata": {},
   "source": [
    "# Advanced TTS demos"
   ]
  },
  {
   "cell_type": "markdown",
   "id": "chinese-headquarters",
   "metadata": {},
   "source": [
    "[![Open In Colab](https://colab.research.google.com/assets/colab-badge.svg)](https://colab.research.google.com/github/r9y9/ttslearn/blob/master/notebooks/ch11_Advanced-demos.ipynb)\n",
    "\n",
    "이 페이지(노트북 형식)에서는, 제11장에서 조금 접한 「비자기 회귀형 신경 보코더」를 이용한, 발전적인 음성 합성의 데모를 나타냅니다.\n",
    "서적에서는 JSUT 코퍼스만을 다루었습니다만, 여기에서는 JVS 코퍼스를 이용한 다화자 음성 합성 등, 다른 코퍼스를 이용한 음성 합성의 데모도 소개합니다.\n",
    "이 페이지의 데모는 책에 설명되어 있지 않습니다.\n",
    "\n",
    "비자기 회귀형 신경보코더의 구현에는 [kan-bayashi/ParallelWaveGAN](https://github.com/kan-bayashi/ParallelWaveGAN) 을 이용합니다.\n",
    "다화자 음성 합성의 구현은, 서적에서는 구현의 해설은 하고 있지 않습니다만, 제9장, 제10장의 내용에, 경미한 수정을 더하는 것으로 실현 가능합니다.\n",
    "관심있는 독자는 extra_recipes 소스 코드를 참조하십시오."
   ]
  },
  {
   "cell_type": "markdown",
   "id": "assumed-karaoke",
   "metadata": {},
   "source": [
    "## 준비"
   ]
  },
  {
   "cell_type": "markdown",
   "id": "angry-choice",
   "metadata": {},
   "source": [
    "### ttslearn 설치"
   ]
  },
  {
   "cell_type": "code",
   "execution_count": null,
   "id": "operational-sacrifice",
   "metadata": {},
   "outputs": [],
   "source": [
    "%%capture\n",
    "try:\n",
    "    import ttslearn\n",
    "except ImportError:\n",
    "    !pip install ttslearn"
   ]
  },
  {
   "cell_type": "code",
   "execution_count": null,
   "id": "seeing-charm",
   "metadata": {},
   "outputs": [],
   "source": [
    "import ttslearn\n",
    "ttslearn.__version__"
   ]
  },
  {
   "cell_type": "markdown",
   "id": "assured-tuner",
   "metadata": {},
   "source": [
    "### 패키지 임포트"
   ]
  },
  {
   "cell_type": "code",
   "execution_count": null,
   "id": "conscious-andorra",
   "metadata": {},
   "outputs": [],
   "source": [
    "%pylab inline\n",
    "import IPython\n",
    "from IPython.display import Audio\n",
    "import librosa\n",
    "import librosa.display\n",
    "from tqdm.notebook import tqdm\n",
    "import torch\n",
    "import random"
   ]
  },
  {
   "cell_type": "markdown",
   "id": "beautiful-typing",
   "metadata": {},
   "source": [
    "## JSUT"
   ]
  },
  {
   "cell_type": "markdown",
   "id": "insured-trash",
   "metadata": {},
   "source": [
    "### Tacotron + Parallel WaveGAN (16kHz）"
   ]
  },
  {
   "cell_type": "code",
   "execution_count": null,
   "id": "connected-palestinian",
   "metadata": {},
   "outputs": [],
   "source": [
    "from ttslearn.contrib import Tacotron2PWGTTS\n",
    "\n",
    "if torch.cuda.is_available():\n",
    "    device = torch.device(\"cuda\")\n",
    "else:\n",
    "    device = torch.device(\"cpu\")\n",
    "print(\"Device:\", device)\n",
    "\n",
    "pwg_engine = Tacotron2PWGTTS(device=device)\n",
    "\n",
    "%time wav, sr = pwg_engine.tts(\"あらゆる現実を、すべて自分のほうへねじ曲げたのだ。\")\n",
    "IPython.display.display(Audio(wav, rate=sr))"
   ]
  },
  {
   "cell_type": "markdown",
   "id": "supported-implementation",
   "metadata": {},
   "source": [
    "### Tacotron + Parallel WaveGAN (24kHz）"
   ]
  },
  {
   "cell_type": "code",
   "execution_count": null,
   "id": "radical-health",
   "metadata": {},
   "outputs": [],
   "source": [
    "from ttslearn.pretrained import create_tts_engine\n",
    "\n",
    "pwg_engine = create_tts_engine(\"tacotron2_pwg_jsut24k\", device=device)\n",
    "\n",
    "%time wav, sr = pwg_engine.tts(\"あらゆる現実を、すべて自分のほうへねじ曲げたのだ。\")\n",
    "IPython.display.display(Audio(wav, rate=sr))"
   ]
  },
  {
   "cell_type": "markdown",
   "id": "successful-break",
   "metadata": {},
   "source": [
    "### Tacotron + HiFi-GAN (24kHz）"
   ]
  },
  {
   "cell_type": "code",
   "execution_count": null,
   "id": "accepted-milwaukee",
   "metadata": {},
   "outputs": [],
   "source": [
    "from ttslearn.pretrained import create_tts_engine\n",
    "\n",
    "pwg_engine = create_tts_engine(\"tacotron2_hifipwg_jsut24k\", device=device)\n",
    "\n",
    "%time wav, sr = pwg_engine.tts(\"あらゆる現実を、すべて自分のほうへねじ曲げたのだ。\")\n",
    "IPython.display.display(Audio(wav, rate=sr))"
   ]
  },
  {
   "cell_type": "markdown",
   "id": "complicated-necessity",
   "metadata": {},
   "source": [
    "## JVS "
   ]
  },
  {
   "cell_type": "markdown",
   "id": "congressional-champagne",
   "metadata": {},
   "source": [
    "### Multi-speaker Tacotron + Parallel WaveGAN (16kHz）"
   ]
  },
  {
   "cell_type": "code",
   "execution_count": null,
   "id": "infectious-company",
   "metadata": {},
   "outputs": [],
   "source": [
    "pwg_engine = create_tts_engine(\"multspk_tacotron2_pwg_jvs16k\", device=device)\n",
    "for spk in [\"jvs001\", \"jvs010\", \"jvs030\", \"jvs050\", \"jvs100\"]:\n",
    "    text = \"タコスと寿司、あなたはどっちが好きですか？わたしは\" + (\"寿司\" if random.random() > 0.2 else \"タコス\") + \"が好きです。\"\n",
    "    wav, sr = pwg_engine.tts(text, spk_id=pwg_engine.spk2id[spk])\n",
    "    print(f\"Speaker: {spk}\")\n",
    "    print(text)\n",
    "    IPython.display.display(Audio(wav, rate=sr))"
   ]
  },
  {
   "cell_type": "markdown",
   "id": "advised-picture",
   "metadata": {},
   "source": [
    "### Multi-speaker Tacotron + Parallel WaveGAN (24kHz）"
   ]
  },
  {
   "cell_type": "code",
   "execution_count": null,
   "id": "decreased-blond",
   "metadata": {},
   "outputs": [],
   "source": [
    "pwg_engine = create_tts_engine(\"multspk_tacotron2_pwg_jvs24k\", device=device)\n",
    "for spk in [\"jvs001\", \"jvs010\", \"jvs030\", \"jvs050\", \"jvs100\"]:\n",
    "    text = \"タコスと寿司、あなたはどっちが好きですか？わたしは\" + (\"寿司\" if random.random() > 0.2 else \"タコス\") + \"が好きです。\"\n",
    "    wav, sr = pwg_engine.tts(text, spk_id=pwg_engine.spk2id[spk])\n",
    "    print(f\"Speaker: {spk}\")\n",
    "    print(text)\n",
    "    IPython.display.display(Audio(wav, rate=sr))"
   ]
  },
  {
   "cell_type": "markdown",
   "id": "documented-finland",
   "metadata": {},
   "source": [
    "### Multi-speaker Tacotron + HiFi-GAN (24kHz）"
   ]
  },
  {
   "cell_type": "code",
   "execution_count": null,
   "id": "classified-needle",
   "metadata": {},
   "outputs": [],
   "source": [
    "pwg_engine = create_tts_engine(\"multspk_tacotron2_hifipwg_jvs24k\", device=device)\n",
    "for spk in [\"jvs001\", \"jvs010\", \"jvs030\", \"jvs050\", \"jvs100\"]:\n",
    "    text = \"タコスと寿司、あなたはどっちが好きですか？わたしは\" + (\"寿司\" if random.random() > 0.2 else \"タコス\") + \"が好きです。\"\n",
    "    wav, sr = pwg_engine.tts(text, spk_id=pwg_engine.spk2id[spk])\n",
    "    print(f\"Speaker: {spk}\")\n",
    "    print(text)\n",
    "    IPython.display.display(Audio(wav, rate=sr))"
   ]
  },
  {
   "cell_type": "markdown",
   "id": "cloudy-premiere",
   "metadata": {},
   "source": [
    "## Common voice (ja)"
   ]
  },
  {
   "cell_type": "markdown",
   "id": "destroyed-samoa",
   "metadata": {},
   "source": [
    "### Multi-speaker Tacotron + Parallel WaveGAN (16kHz）"
   ]
  },
  {
   "cell_type": "code",
   "execution_count": null,
   "id": "victorian-vocabulary",
   "metadata": {},
   "outputs": [],
   "source": [
    "pwg_engine = create_tts_engine(\"multspk_tacotron2_pwg_cv16k\", device=device)\n",
    "# NOTE: some speaker's voice have significant amount of noise (e.g., speaker 0)\n",
    "for spk_id in [5, 6, 12, 15, 19]:\n",
    "    text = (\"今日\" if random.random() > 0.5 else \"明日\") + \"の天気は、\" +  (\"晴れ時々曇り\" if random.random() > 0.5 else \"晴れ\") + \"です。\"\n",
    "    wav, sr = pwg_engine.tts(text, spk_id=spk_id)\n",
    "    print(f\"Speaker ID: {spk_id}\")\n",
    "    print(text)\n",
    "    IPython.display.display(Audio(wav, rate=sr))"
   ]
  },
  {
   "cell_type": "markdown",
   "id": "royal-michael",
   "metadata": {},
   "source": [
    "### Multi-speaker Tacotron + Parallel WaveGAN (24kHz）"
   ]
  },
  {
   "cell_type": "code",
   "execution_count": null,
   "id": "premium-louisiana",
   "metadata": {},
   "outputs": [],
   "source": [
    "pwg_engine = create_tts_engine(\"multspk_tacotron2_pwg_cv24k\", device=device)\n",
    "# NOTE: some speaker's voice have significant amount of noise (e.g., speaker 0)\n",
    "for spk_id in [5, 6, 12, 15, 19]:\n",
    "    text = (\"今日\" if random.random() > 0.5 else \"明日\") + \"の天気は、\" +  (\"晴れ時々曇り\" if random.random() > 0.5 else \"晴れ\") + \"です。\"\n",
    "    wav, sr = pwg_engine.tts(text, spk_id=spk_id)\n",
    "    print(f\"Speaker ID: {spk_id}\")\n",
    "    print(text)\n",
    "    IPython.display.display(Audio(wav, rate=sr))"
   ]
  },
  {
   "cell_type": "markdown",
   "id": "economic-stress",
   "metadata": {},
   "source": [
    "## 참고\n",
    "\n",
    "- Parallel WaveGAN: https://arxiv.org/abs/1910.11480\n",
    "- HiFi-GAN: https://arxiv.org/abs/2010.05646\n",
    "- Parallel WaveGAN을 포함한 GAN 기반 비자가 회귀 형 신경 보코더 구현: https://github.com/kan-bayashi/ParallelWaveGAN"
   ]
  }
 ],
 "metadata": {
  "kernelspec": {
   "display_name": "Python 3",
   "language": "python",
   "name": "python3"
  },
  "language_info": {
   "codemirror_mode": {
    "name": "ipython",
    "version": 3
   },
   "file_extension": ".py",
   "mimetype": "text/x-python",
   "name": "python",
   "nbconvert_exporter": "python",
   "pygments_lexer": "ipython3",
   "version": "3.8.6"
  }
 },
 "nbformat": 4,
 "nbformat_minor": 5
}